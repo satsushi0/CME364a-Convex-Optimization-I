{
 "cells": [
  {
   "cell_type": "code",
   "execution_count": 1,
   "id": "b743e56e",
   "metadata": {},
   "outputs": [],
   "source": [
    "import numpy as np\n",
    "import cvxpy as cp"
   ]
  },
  {
   "cell_type": "code",
   "execution_count": 2,
   "id": "7444e65a",
   "metadata": {},
   "outputs": [],
   "source": [
    "# Setting the brokerage fee rate.\n",
    "stockfee = 0.005\n",
    "bondfee = 0.008"
   ]
  },
  {
   "cell_type": "code",
   "execution_count": 3,
   "id": "ed9ab406",
   "metadata": {},
   "outputs": [
    {
     "name": "stdout",
     "output_type": "stream",
     "text": [
      "The optimal profit: 0.03335\n",
      "The optimal time allocation: [stock, bond] = [3.833, 6.167]\n",
      "The optimal amount of bond to underwrite: 2.59\n"
     ]
    }
   ],
   "source": [
    "# Example 4\n",
    "T = 10\n",
    "\n",
    "_T = cp.Variable(2)\n",
    "objective = cp.Maximize(cp.log(3*_T[0]+1)*stockfee + cp.log(2*_T[1]+1)*bondfee)\n",
    "constraints = [cp.sum(_T) == T, \n",
    "               _T >= 0]\n",
    "profit = cp.Problem(objective, constraints).solve()\n",
    "\n",
    "print(\"The optimal profit: \" + str(round(profit, 5)))\n",
    "print(\"The optimal time allocation: [stock, bond] = [\" \\\n",
    "      + str(round(_T.value[0],3)) + \", \" + str(round(_T.value[1],3)) + \"]\")\n",
    "print(\"The optimal amount of bond to underwrite: \" + str(round(np.log(2*_T.value[1]+1),3)))"
   ]
  },
  {
   "cell_type": "code",
   "execution_count": 4,
   "id": "900fc702",
   "metadata": {},
   "outputs": [
    {
     "name": "stdout",
     "output_type": "stream",
     "text": [
      "The optimal profit: 0.03773\n",
      "The optimal time allocation:\n",
      "   stock sales: [stock, bond] = [3.821, 0.0]\n",
      "   bond sales: [stock, bond] = [0.0, 6.179]\n",
      "BS ratio: 1.065\n"
     ]
    }
   ],
   "source": [
    "# Example 5.1\n",
    "T = 10\n",
    "\n",
    "Ts, Tb = cp.Variable(2), cp.Variable(2)\n",
    "objective = cp.Maximize(cp.log(4*Ts[0]+2*Tb[0]+1)*stockfee + cp.log(Ts[1]+3*Tb[1]+1)*bondfee)\n",
    "constraints = [cp.sum(Ts) + cp.sum(Tb) == T, \n",
    "               Ts >= 0, \n",
    "               Tb >= 0]\n",
    "profit = cp.Problem(objective, constraints).solve()\n",
    "\n",
    "print(\"The optimal profit: \" + str(round(profit, 5)))\n",
    "print(\"The optimal time allocation:\")\n",
    "print(\"   stock sales: [stock, bond] = [\" + str(round(Ts.value[0],3)) + \", \" + str(round(Ts.value[1],3)) + \"]\")\n",
    "print(\"   bond sales: [stock, bond] = [\" + str(round(Tb.value[0],3)) + \", \" + str(round(Tb.value[1],3)) + \"]\")\n",
    "bs_ratio_opt = np.log(Ts.value[1]+3*Tb.value[1]+1) / np.log(4*Ts.value[0]+2*Tb.value[0]+1)\n",
    "print(\"BS ratio: \" + str(round(bs_ratio_opt,3)))"
   ]
  },
  {
   "cell_type": "code",
   "execution_count": 5,
   "id": "76e9f5d9",
   "metadata": {},
   "outputs": [
    {
     "name": "stdout",
     "output_type": "stream",
     "text": [
      "The optimal profit: 0.03661\n",
      "The optimal time allocation:\n",
      "   stock sales: [stock, bond] = [6.0, 0.0]\n",
      "   bond sales: [stock, bond] = [0.0, 4.0]\n",
      "BS ratio: 0.797\n"
     ]
    }
   ],
   "source": [
    "# Ricardian theory of comparative advantage\n",
    "T = 10\n",
    "Ts_total = 6\n",
    "Tb_total = T - Ts_total\n",
    "\n",
    "Ts, Tb = cp.Variable(2), cp.Variable(2)\n",
    "objective = cp.Maximize(cp.log(4*Ts[0]+2*Tb[0]+1)*stockfee + cp.log(Ts[1]+3*Tb[1]+1)*bondfee)\n",
    "constraints = [cp.sum(Ts) == Ts_total, \n",
    "               cp.sum(Tb) == Tb_total,  \n",
    "               Ts >= 0, \n",
    "               Tb >= 0]\n",
    "profit = cp.Problem(objective, constraints).solve()\n",
    "\n",
    "print(\"The optimal profit: \" + str(round(profit, 5)))\n",
    "print(\"The optimal time allocation:\")\n",
    "print(\"   stock sales: [stock, bond] = [\" + str(round(Ts.value[0],3)) + \", \" + str(round(Ts.value[1],3)) + \"]\")\n",
    "print(\"   bond sales: [stock, bond] = [\" + str(round(Tb.value[0],3)) + \", \" + str(round(Tb.value[1],3)) + \"]\")\n",
    "print(\"BS ratio: \" + str(round(np.log(Ts.value[1]+3*Tb.value[1]+1) / np.log(4*Ts.value[0]+2*Tb.value[0]+1),3)))"
   ]
  },
  {
   "cell_type": "code",
   "execution_count": 6,
   "id": "53e1a16d",
   "metadata": {},
   "outputs": [
    {
     "name": "stdout",
     "output_type": "stream",
     "text": [
      "The optimal profit: 0.03549\n",
      "The optimal time allocation:\n",
      "   stock sales: [stock, bond] = [6.0, 0.0]\n",
      "   bond sales: [stock, bond] = [0.0, 4.0]\n",
      "BS ratio: 0.797\n"
     ]
    }
   ],
   "source": [
    "# Example 5.2\n",
    "# Ricardian theory of comparative advantage\n",
    "T = 10\n",
    "Ts_total = 6\n",
    "Tb_total = T - Ts_total\n",
    "\n",
    "Ts, Tb = cp.Variable(2), cp.Variable(2)\n",
    "objective = cp.Maximize(cp.log(2*Ts[0]+3*Tb[0]+1)*stockfee + cp.log(Ts[1]+4*Tb[1]+1)*bondfee)\n",
    "constraints = [cp.sum(Ts) == Ts_total, \n",
    "               cp.sum(Tb) == Tb_total,  \n",
    "               Ts >= 0, \n",
    "               Tb >= 0]\n",
    "profit = cp.Problem(objective, constraints).solve()\n",
    "\n",
    "print(\"The optimal profit: \" + str(round(profit, 5)))\n",
    "print(\"The optimal time allocation:\")\n",
    "print(\"   stock sales: [stock, bond] = [\" + str(round(Ts.value[0],3)) + \", \" + str(round(Ts.value[1],3)) + \"]\")\n",
    "print(\"   bond sales: [stock, bond] = [\" + str(round(Tb.value[0],3)) + \", \" + str(round(Tb.value[1],3)) + \"]\")\n",
    "print(\"BS ratio: \" + str(round(np.log(Ts.value[1]+3*Tb.value[1]+1) / np.log(4*Ts.value[0]+2*Tb.value[0]+1),3)))"
   ]
  },
  {
   "cell_type": "code",
   "execution_count": 7,
   "id": "fdd4a1f0",
   "metadata": {},
   "outputs": [
    {
     "name": "stdout",
     "output_type": "stream",
     "text": [
      "The optimal profit: 0.03769\n",
      "The optimal time allocation:\n",
      "   stock sales: [stock, bond] = [4.211, 0.0]\n",
      "   bond sales: [stock, bond] = [0.0, 5.789]\n",
      "BS ratio: 1.01\n"
     ]
    }
   ],
   "source": [
    "# Example 6\n",
    "bs_ratio_target = 1.01\n",
    "T = 10\n",
    "\n",
    "Ts, Tb = cp.Variable(2), cp.Variable(2)\n",
    "Samt, Bamt = cp.Variable(), cp.Variable()\n",
    "objective = cp.Maximize(Samt*stockfee + Bamt*bondfee)\n",
    "constraints = [cp.sum(Ts) + cp.sum(Tb) == T, \n",
    "               Ts >= 0, \n",
    "               Tb >= 0,\n",
    "               Bamt == bs_ratio_target*Samt,\n",
    "               Bamt <= cp.log(Ts[1]+3*Tb[1]+1), \n",
    "               Samt <= cp.log(4*Ts[0]+2*Tb[0]+1)]\n",
    "profit = cp.Problem(objective, constraints).solve()\n",
    "\n",
    "print(\"The optimal profit: \" + str(round(profit, 5)))\n",
    "print(\"The optimal time allocation:\")\n",
    "print(\"   stock sales: [stock, bond] = [\" + str(round(Ts.value[0],3)) + \", \" + str(round(Ts.value[1],3)) + \"]\")\n",
    "print(\"   bond sales: [stock, bond] = [\" + str(round(Tb.value[0],3)) + \", \" + str(round(Tb.value[1],3)) + \"]\")\n",
    "print(\"BS ratio: \" + str(round(np.log(Ts.value[1]+3*Tb.value[1]+1) / np.log(4*Ts.value[0]+2*Tb.value[0]+1),3)))"
   ]
  },
  {
   "cell_type": "code",
   "execution_count": 8,
   "id": "33afa37a",
   "metadata": {},
   "outputs": [
    {
     "name": "stdout",
     "output_type": "stream",
     "text": [
      "The optimal profit: 0.01018\n",
      "The optimal time allocation:\n",
      "   stock sales: [stock, bond] = [2.98, 1.863]\n",
      "   bond sales: [stock, bond] = [1.058, 4.099]\n",
      "BS ratio: 1.01\n"
     ]
    }
   ],
   "source": [
    "# Example 7\n",
    "bs_ratio_target = 1.01\n",
    "T = 10\n",
    "\n",
    "t_stock_unit = cp.Variable(2)\n",
    "objective = cp.Maximize(1/T*cp.log(4*t_stock_unit[0]+1)*stockfee + 1/T*cp.log(t_stock_unit[1]+1)*bondfee)\n",
    "constraints = [t_stock_unit[0] + t_stock_unit[1] == 1,\n",
    "               t_stock_unit >= 0]\n",
    "unit_profit_s = cp.Problem(objective, constraints).solve()\n",
    "\n",
    "t_bond_unit = cp.Variable(2)\n",
    "objective = cp.Maximize(1/T*cp.log(2*t_bond_unit[0]+1)*stockfee + 1/T*cp.log(3*t_bond_unit[1]+1)*bondfee)\n",
    "constraints = [t_bond_unit[0] + t_bond_unit[1] == 1,\n",
    "               t_bond_unit >= 0]\n",
    "unit_profit_b = cp.Problem(objective, constraints).solve()\n",
    "\n",
    "Samt, Bamt = cp.Variable(), cp.Variable()\n",
    "Ts_all, Tb_all = cp.Variable(), cp.Variable()\n",
    "objective = cp.Maximize(Ts_all * unit_profit_s + Tb_all * unit_profit_b)\n",
    "constraints = [Bamt == bs_ratio_target*Samt, \n",
    "               Ts_all + Tb_all == T,\n",
    "               Ts_all >= 0,\n",
    "               Tb_all >= 0,\n",
    "               Samt == Ts_all/T*cp.log(4*t_stock_unit.value[0]+1) + Tb_all/T*cp.log(2*t_bond_unit.value[0]+1), \n",
    "               Bamt == Ts_all/T*cp.log(t_stock_unit.value[1]+1) + Tb_all/T*cp.log(3*t_bond_unit.value[1]+1)]\n",
    "profit = cp.Problem(objective, constraints).solve()\n",
    "\n",
    "print(\"The optimal profit: \" + str(round(profit, 5)))\n",
    "print(\"The optimal time allocation:\")\n",
    "print(\"   stock sales: [stock, bond] = [\" \\\n",
    "      + str(round(t_stock_unit.value[0]*Ts_all.value,3)) + \", \" \\\n",
    "      + str(round(t_stock_unit.value[1]*Ts_all.value,3)) + \"]\")\n",
    "print(\"   bond sales: [stock, bond] = [\" \\\n",
    "      + str(round(t_bond_unit.value[0]*Tb_all.value,3)) + \", \" \\\n",
    "      + str(round(t_bond_unit.value[1]*Tb_all.value,3)) + \"]\")\n",
    "print(\"BS ratio: \" + str(round(Bamt.value / Samt.value, 3)))"
   ]
  }
 ],
 "metadata": {
  "kernelspec": {
   "display_name": "Python 3",
   "language": "python",
   "name": "python3"
  },
  "language_info": {
   "codemirror_mode": {
    "name": "ipython",
    "version": 3
   },
   "file_extension": ".py",
   "mimetype": "text/x-python",
   "name": "python",
   "nbconvert_exporter": "python",
   "pygments_lexer": "ipython3",
   "version": "3.7.11"
  }
 },
 "nbformat": 4,
 "nbformat_minor": 5
}
